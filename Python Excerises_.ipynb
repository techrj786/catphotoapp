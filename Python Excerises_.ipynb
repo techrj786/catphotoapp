{
  "nbformat": 4,
  "nbformat_minor": 0,
  "metadata": {
    "colab": {
      "provenance": [],
      "collapsed_sections": [
        "_5DQcXtK6g0d",
        "Exccil58rOsE",
        "rfDbFuprvVC2",
        "d1e7qffwyjYv",
        "XZ-zVSRH3GfI",
        "zUECEoD64Esm",
        "bgM_muBT7mz6"
      ],
      "authorship_tag": "ABX9TyM3lfxVkKQnj48ze5CvGE4w",
      "include_colab_link": true
    },
    "kernelspec": {
      "name": "python3",
      "display_name": "Python 3"
    },
    "language_info": {
      "name": "python"
    }
  },
  "cells": [
    {
      "cell_type": "markdown",
      "metadata": {
        "id": "view-in-github",
        "colab_type": "text"
      },
      "source": [
        "<a href=\"https://colab.research.google.com/github/techrj786/catphotoapp/blob/main/Python%20Excerises_.ipynb\" target=\"_parent\"><img src=\"https://colab.research.google.com/assets/colab-badge.svg\" alt=\"Open In Colab\"/></a>"
      ]
    },
    {
      "cell_type": "markdown",
      "source": [
        "# **Excerise 1**"
      ],
      "metadata": {
        "id": "_5DQcXtK6g0d"
      }
    },
    {
      "cell_type": "markdown",
      "source": [
        "## **Arithmetic Operator**"
      ],
      "metadata": {
        "id": "Exccil58rOsE"
      }
    },
    {
      "cell_type": "markdown",
      "source": [
        "1. Multiply 10 with 5, and print theresult.\n"
      ],
      "metadata": {
        "id": "19xQYWOQrjEy"
      }
    },
    {
      "cell_type": "code",
      "execution_count": null,
      "metadata": {
        "colab": {
          "base_uri": "https://localhost:8080/"
        },
        "id": "sjAYdY3arMli",
        "outputId": "b899afca-5396-4a2f-bfa0-c03a78c40ee2"
      },
      "outputs": [
        {
          "output_type": "stream",
          "name": "stdout",
          "text": [
            "50\n"
          ]
        }
      ],
      "source": [
        "a=10\n",
        "b=5\n",
        "print(a*b)"
      ]
    },
    {
      "cell_type": "markdown",
      "source": [
        "2. Add 20 with 66, and print the result."
      ],
      "metadata": {
        "id": "VgK5qnh7rzB7"
      }
    },
    {
      "cell_type": "code",
      "source": [
        "a=20\n",
        "b=66\n",
        "print(a+b)"
      ],
      "metadata": {
        "colab": {
          "base_uri": "https://localhost:8080/"
        },
        "id": "vaKPEnWWr7HT",
        "outputId": "e3771d41-1832-4e1e-a2c6-de17371bbd3d"
      },
      "execution_count": null,
      "outputs": [
        {
          "output_type": "stream",
          "name": "stdout",
          "text": [
            "86\n"
          ]
        }
      ]
    },
    {
      "cell_type": "markdown",
      "source": [
        "3. Subtract 88 with 52, and print the result"
      ],
      "metadata": {
        "id": "6nl_OYi_sDul"
      }
    },
    {
      "cell_type": "code",
      "source": [
        "a=88\n",
        "b=52\n",
        "print(a-b)"
      ],
      "metadata": {
        "colab": {
          "base_uri": "https://localhost:8080/"
        },
        "id": "veGbF_e4sIJp",
        "outputId": "990417d9-0c2a-4b0f-ba14-2ccbfca67b13"
      },
      "execution_count": null,
      "outputs": [
        {
          "output_type": "stream",
          "name": "stdout",
          "text": [
            "36\n"
          ]
        }
      ]
    },
    {
      "cell_type": "markdown",
      "source": [
        "4. Divide 20 with 6, and print the result.\n"
      ],
      "metadata": {
        "id": "gXHMK7gosP5x"
      }
    },
    {
      "cell_type": "code",
      "source": [
        "a=20\n",
        "b=6\n",
        "print(a/b)"
      ],
      "metadata": {
        "colab": {
          "base_uri": "https://localhost:8080/"
        },
        "id": "yknjyz2JsU1c",
        "outputId": "72627fb4-d02b-47ba-d3b4-d85f4799c133"
      },
      "execution_count": null,
      "outputs": [
        {
          "output_type": "stream",
          "name": "stdout",
          "text": [
            "3.3333333333333335\n"
          ]
        }
      ]
    },
    {
      "cell_type": "markdown",
      "source": [
        "5. Modulo 52 with 4, and print the result.\n"
      ],
      "metadata": {
        "id": "8DV4PTL4scNp"
      }
    },
    {
      "cell_type": "code",
      "source": [
        "a=52\n",
        "b=4\n",
        "print(a%b)"
      ],
      "metadata": {
        "colab": {
          "base_uri": "https://localhost:8080/"
        },
        "id": "DP1nQ_gasgLZ",
        "outputId": "59ab521d-18b6-4bf6-85c3-e9fe08c361b7"
      },
      "execution_count": null,
      "outputs": [
        {
          "output_type": "stream",
          "name": "stdout",
          "text": [
            "0\n"
          ]
        }
      ]
    },
    {
      "cell_type": "markdown",
      "source": [
        "6. Exponantion 5 with 66, and print the result"
      ],
      "metadata": {
        "id": "WPQ_B0HytVuz"
      }
    },
    {
      "cell_type": "code",
      "source": [
        "a=5\n",
        "b=66\n",
        "print(a**b)"
      ],
      "metadata": {
        "colab": {
          "base_uri": "https://localhost:8080/"
        },
        "id": "-w1qXEsftgNx",
        "outputId": "d79b2414-34a0-4eb8-97dd-1f4ab4bfba6b"
      },
      "execution_count": null,
      "outputs": [
        {
          "output_type": "stream",
          "name": "stdout",
          "text": [
            "13552527156068805425093160010874271392822265625\n"
          ]
        }
      ]
    },
    {
      "cell_type": "markdown",
      "source": [
        "7. Floor division of 20 with 6, and print the result"
      ],
      "metadata": {
        "id": "UbZkVO3quy-1"
      }
    },
    {
      "cell_type": "code",
      "source": [
        "a=20\n",
        "b=6\n",
        "print(a//b)"
      ],
      "metadata": {
        "colab": {
          "base_uri": "https://localhost:8080/"
        },
        "id": "_t_mnfpTu0on",
        "outputId": "ca7d5693-d1c3-4f3d-8a49-d6ac874d24f5"
      },
      "execution_count": null,
      "outputs": [
        {
          "output_type": "stream",
          "name": "stdout",
          "text": [
            "3\n"
          ]
        }
      ]
    },
    {
      "cell_type": "markdown",
      "source": [
        "##**What will be the output of following expression in python?**"
      ],
      "metadata": {
        "id": "rfDbFuprvVC2"
      }
    },
    {
      "cell_type": "code",
      "source": [
        "4 + 5.2 - 0.2"
      ],
      "metadata": {
        "colab": {
          "base_uri": "https://localhost:8080/"
        },
        "id": "FS2sGTBvvnsG",
        "outputId": "c9be008d-9a9c-4260-ab03-a579858943bf"
      },
      "execution_count": null,
      "outputs": [
        {
          "output_type": "execute_result",
          "data": {
            "text/plain": [
              "9.0"
            ]
          },
          "metadata": {},
          "execution_count": 8
        }
      ]
    },
    {
      "cell_type": "code",
      "source": [
        "9.8 - 2.1 * 3\n"
      ],
      "metadata": {
        "colab": {
          "base_uri": "https://localhost:8080/"
        },
        "id": "dNS4gBFAv3V_",
        "outputId": "585c18fc-c11c-4125-eae3-f1f6f3cd92d2"
      },
      "execution_count": null,
      "outputs": [
        {
          "output_type": "execute_result",
          "data": {
            "text/plain": [
              "3.5"
            ]
          },
          "metadata": {},
          "execution_count": 9
        }
      ]
    },
    {
      "cell_type": "code",
      "source": [
        "2 * 3 - 4 // 2"
      ],
      "metadata": {
        "colab": {
          "base_uri": "https://localhost:8080/"
        },
        "id": "bdfKxOINv8mg",
        "outputId": "6fb22f48-700c-4688-e2db-542c96c5e33d"
      },
      "execution_count": null,
      "outputs": [
        {
          "output_type": "execute_result",
          "data": {
            "text/plain": [
              "4"
            ]
          },
          "metadata": {},
          "execution_count": 10
        }
      ]
    },
    {
      "cell_type": "code",
      "source": [
        "(10 + 4 * 2) / 9 + 1\n"
      ],
      "metadata": {
        "colab": {
          "base_uri": "https://localhost:8080/"
        },
        "id": "J7S_kR_qwElP",
        "outputId": "08cee023-f2c7-469d-c65a-8158e8518424"
      },
      "execution_count": null,
      "outputs": [
        {
          "output_type": "execute_result",
          "data": {
            "text/plain": [
              "3.0"
            ]
          },
          "metadata": {},
          "execution_count": 11
        }
      ]
    },
    {
      "cell_type": "code",
      "source": [
        "(True or False) and (not (True and False))"
      ],
      "metadata": {
        "colab": {
          "base_uri": "https://localhost:8080/"
        },
        "id": "ZEKHF98_wk9q",
        "outputId": "a5944d40-a7ed-4321-a0fb-d0797091f5db"
      },
      "execution_count": null,
      "outputs": [
        {
          "output_type": "execute_result",
          "data": {
            "text/plain": [
              "True"
            ]
          },
          "metadata": {},
          "execution_count": 12
        }
      ]
    },
    {
      "cell_type": "code",
      "source": [
        "2**3%2==4"
      ],
      "metadata": {
        "colab": {
          "base_uri": "https://localhost:8080/"
        },
        "id": "u84XPu7kw3YW",
        "outputId": "e2ecf639-0e1d-4dfd-8f48-a4f9f0db12a8"
      },
      "execution_count": null,
      "outputs": [
        {
          "output_type": "execute_result",
          "data": {
            "text/plain": [
              "False"
            ]
          },
          "metadata": {},
          "execution_count": 14
        }
      ]
    },
    {
      "cell_type": "code",
      "source": [
        "2.5/0.5/2"
      ],
      "metadata": {
        "colab": {
          "base_uri": "https://localhost:8080/"
        },
        "id": "ztq5w1D-xpH7",
        "outputId": "82d65120-2b24-49d0-d3cd-2c970aeecb60"
      },
      "execution_count": null,
      "outputs": [
        {
          "output_type": "execute_result",
          "data": {
            "text/plain": [
              "2.5"
            ]
          },
          "metadata": {},
          "execution_count": 15
        }
      ]
    },
    {
      "cell_type": "code",
      "source": [
        "2.5/0.5//2"
      ],
      "metadata": {
        "colab": {
          "base_uri": "https://localhost:8080/"
        },
        "id": "jkF12d8rx0YU",
        "outputId": "d93c0c93-7608-4933-d325-831b7ba2142e"
      },
      "execution_count": null,
      "outputs": [
        {
          "output_type": "execute_result",
          "data": {
            "text/plain": [
              "2.0"
            ]
          },
          "metadata": {},
          "execution_count": 16
        }
      ]
    },
    {
      "cell_type": "code",
      "source": [
        "5**3+3**4>=200"
      ],
      "metadata": {
        "colab": {
          "base_uri": "https://localhost:8080/"
        },
        "id": "rX6H2EvYyXdD",
        "outputId": "6668e68d-d339-4abb-8020-5a1fbf42bee4"
      },
      "execution_count": null,
      "outputs": [
        {
          "output_type": "execute_result",
          "data": {
            "text/plain": [
              "True"
            ]
          },
          "metadata": {},
          "execution_count": 17
        }
      ]
    },
    {
      "cell_type": "markdown",
      "source": [
        "## **Comparision operarator**"
      ],
      "metadata": {
        "id": "d1e7qffwyjYv"
      }
    },
    {
      "cell_type": "code",
      "source": [
        "x1=54\n",
        "x2=33\n",
        "if(x1==x2):\n",
        "    print(\"x1 and x2 are equal\")\n",
        "elif(x1>x2):\n",
        "     print(\"x1 is greater than x2\")\n",
        "elif(x1>=x2):\n",
        "    print(\"x1 is grater than or equal to x2\")\n",
        "elif(x1<x2):\n",
        "    print(\"x1 is less than x2\")\n",
        "elif(x1<=x2):\n",
        "    print(\"x1 is less than or equal to x2\")\n",
        "else:\n",
        "    print(\"no relation exist between x1 and x2\")"
      ],
      "metadata": {
        "colab": {
          "base_uri": "https://localhost:8080/"
        },
        "id": "eWuPJA-kyoY9",
        "outputId": "798a0ed8-15a2-4ecb-dbe4-92f2dcc607a8"
      },
      "execution_count": null,
      "outputs": [
        {
          "output_type": "stream",
          "name": "stdout",
          "text": [
            "x1 is greater than x2\n"
          ]
        }
      ]
    },
    {
      "cell_type": "markdown",
      "source": [
        "## **Logical operator**"
      ],
      "metadata": {
        "id": "XZ-zVSRH3GfI"
      }
    },
    {
      "cell_type": "code",
      "source": [
        "o=True\n",
        "p=False\n",
        "print(o and p)  #AND OPERATION\n",
        "\n",
        "print( o or p) #OR OPERATION\n",
        "\n",
        "print(not p) #NOT OPERATION\n",
        "\n",
        "print(not (o or p)) #nor operator"
      ],
      "metadata": {
        "colab": {
          "base_uri": "https://localhost:8080/"
        },
        "id": "ftysGuLy3IZW",
        "outputId": "50d58c98-3609-411c-8908-415bbc9f5d7c"
      },
      "execution_count": null,
      "outputs": [
        {
          "output_type": "stream",
          "name": "stdout",
          "text": [
            "False\n",
            "True\n",
            "True\n",
            "False\n"
          ]
        }
      ]
    },
    {
      "cell_type": "markdown",
      "source": [
        "## **Assignment operators**"
      ],
      "metadata": {
        "id": "zUECEoD64Esm"
      }
    },
    {
      "cell_type": "code",
      "source": [
        "q=66\n",
        "r=8\n",
        "# Augmented Assignment Operators\n",
        "q += r   # q = q + r\n",
        "print(q)  # Output: 74\n",
        "\n",
        "q = 66  # Reset q to its original value\n",
        "\n",
        "q -= r   # q = q - r\n",
        "print(q)\n",
        "\n",
        "q = 66  # Reset q to its original value\n",
        "\n",
        "q *= r   # q = q * r\n",
        "print(q)\n",
        "\n",
        "q = 66  # Reset q to its original value\n",
        "\n",
        "q /= r   # q = q / r\n",
        "print(q)\n",
        "\n",
        "q = 66  # Reset q to its original value\n",
        "\n",
        "q %= r   # q = q % r\n",
        "print(q)\n",
        "\n",
        "q = 66  # Reset q to its original value\n",
        "\n",
        "q **= r  # q = q ** r\n",
        "print(q)\n",
        "\n",
        "q = 66  # Reset q to its original value\n",
        "\n",
        "q //= r  # q = q // r\n",
        "print(q)\n"
      ],
      "metadata": {
        "colab": {
          "base_uri": "https://localhost:8080/"
        },
        "id": "-H5k2Xy54H-n",
        "outputId": "aeab2115-66a7-4551-f675-24d91b2ed5d2"
      },
      "execution_count": null,
      "outputs": [
        {
          "output_type": "stream",
          "name": "stdout",
          "text": [
            "74\n",
            "58\n",
            "528\n",
            "8.25\n",
            "2\n",
            "360040606269696\n",
            "8\n"
          ]
        }
      ]
    },
    {
      "cell_type": "markdown",
      "source": [
        "## **Membership Operator**"
      ],
      "metadata": {
        "id": "MCw9aRdw4YR5"
      }
    },
    {
      "cell_type": "code",
      "source": [
        "a = 'Hello World'\n",
        "print('Hello' in 'Hello World')\n",
        "print('Name' in 'Hello World')\n",
        "\n",
        "b= [1,2,3,4,5]\n",
        "print( 5 in b)"
      ],
      "metadata": {
        "colab": {
          "base_uri": "https://localhost:8080/"
        },
        "id": "2OAoEuuh4cUw",
        "outputId": "4c94a54c-1bb1-4a2d-ea70-86af0091fef0"
      },
      "execution_count": null,
      "outputs": [
        {
          "output_type": "stream",
          "name": "stdout",
          "text": [
            "True\n",
            "False\n",
            "True\n"
          ]
        }
      ]
    },
    {
      "cell_type": "markdown",
      "source": [
        "# **Excerise 2**"
      ],
      "metadata": {
        "id": "bgM_muBT7mz6"
      }
    },
    {
      "cell_type": "markdown",
      "source": [
        "1) Write a program to check the given number is Odd or Even."
      ],
      "metadata": {
        "id": "EFMJ0ay5AoVk"
      }
    },
    {
      "cell_type": "code",
      "source": [
        "num= int(input(\"Enter the num : \"))\n",
        "if num ==0:\n",
        "     print(\"Enter the num grater than Zero\")\n",
        "elif num%2==0:\n",
        "     print(num, \"is even Num.\")\n",
        "else :\n",
        "     print(num,\"is Odd Num\")"
      ],
      "metadata": {
        "colab": {
          "base_uri": "https://localhost:8080/"
        },
        "id": "_9UhvWCAArSO",
        "outputId": "1270109c-ed36-4b90-c45e-8a7490f9a1c6"
      },
      "execution_count": null,
      "outputs": [
        {
          "output_type": "stream",
          "name": "stdout",
          "text": [
            "Enter the num : 5\n",
            "5 is Odd Num\n"
          ]
        }
      ]
    },
    {
      "cell_type": "markdown",
      "source": [
        "2) Write a program to check if a given number is positive, negative or zero."
      ],
      "metadata": {
        "id": "4Jo4l8YkCOi8"
      }
    },
    {
      "cell_type": "code",
      "source": [
        "num = int(input(\"Enter the number : \"))\n",
        "if num==0 :\n",
        "   print(num,\"Is Zero\")\n",
        "elif num>0 :\n",
        "   print(num, \"Is Positive \")\n",
        "elif num<0 :\n",
        "  print(num, \"Is Negative\")\n",
        "else:\n",
        "  print(\"Enter valid Num\")\n"
      ],
      "metadata": {
        "colab": {
          "base_uri": "https://localhost:8080/"
        },
        "id": "m2a7996fCRN-",
        "outputId": "6d2a177c-f8a1-4a85-8102-2a011612f0fd"
      },
      "execution_count": null,
      "outputs": [
        {
          "output_type": "stream",
          "name": "stdout",
          "text": [
            "Enter the number : 0\n",
            "0 Is Zero\n"
          ]
        }
      ]
    },
    {
      "cell_type": "markdown",
      "source": [
        "3) Write a program to swap the two numbers without using temporary\n",
        "variable."
      ],
      "metadata": {
        "id": "ZDW1ppJODfGC"
      }
    },
    {
      "cell_type": "code",
      "source": [
        "a= int(input(\"Enter Num1 : \"))\n",
        "b= int(input(\"Enter Num2 : \"))\n",
        "\n",
        "a= a+b\n",
        "b= a-b\n",
        "a= a-b\n",
        "print(\"After Swaping Num1 is\",a,\"and Num2 is \",b)"
      ],
      "metadata": {
        "colab": {
          "base_uri": "https://localhost:8080/"
        },
        "id": "rSF9RDP1Dkzw",
        "outputId": "7470edcc-2268-45d5-8e02-d5d5da3a2171"
      },
      "execution_count": null,
      "outputs": [
        {
          "output_type": "stream",
          "name": "stdout",
          "text": [
            "Enter Num1 : 3\n",
            "Enter Num2 : 4\n",
            "After Swaping Num1 is 4 and Num2 is  3\n"
          ]
        }
      ]
    },
    {
      "cell_type": "markdown",
      "source": [
        "4) Write a program to find Largest among given Three Numbers."
      ],
      "metadata": {
        "id": "duJKoVw7FRRH"
      }
    },
    {
      "cell_type": "code",
      "source": [
        "#find largest among given numbers\n",
        "x=float(input(\"Enter number 1: \"))\n",
        "y=float(input(\"Enter number 2: \"))\n",
        "z=float(input(\"Enter number 3: \"))\n",
        "if x>y and x>z:\n",
        "    print(\" largest num is \", x)\n",
        "elif y>z and y>x:\n",
        "    print(\"largest num is \", y)\n",
        "elif z>y and z>x:\n",
        "    print(\"largest num is \", z)\n",
        "elif x==y and x>z and y>z:\n",
        "    print(\"largest num is \",x)\n",
        "elif x==z and x>y and y<z:\n",
        "    print(\"largest num is \",x)\n",
        "elif y==z and x<z and z>x:\n",
        "    print(\"largest num is \",x)\n",
        "else:\n",
        "    print(\"All numbers are same\")"
      ],
      "metadata": {
        "colab": {
          "base_uri": "https://localhost:8080/"
        },
        "id": "D45d1hgRFVrj",
        "outputId": "a5dcf471-3b67-4226-997c-ca57e37962bb"
      },
      "execution_count": null,
      "outputs": [
        {
          "output_type": "stream",
          "name": "stdout",
          "text": [
            "Enter number 1: 1\n",
            "Enter number 2: 1\n",
            "Enter number 3: 2\n",
            "largest num is  2.0\n"
          ]
        }
      ]
    },
    {
      "cell_type": "markdown",
      "source": [
        "5) Write a program to sum o f ODD and EVEN numbers in Given Range."
      ],
      "metadata": {
        "id": "gOvnPfcSFtxk"
      }
    },
    {
      "cell_type": "code",
      "source": [
        "n1 = int(input(\"Enter the first num of range : \"))\n",
        "n2 = int(input(\"Enter the last num of range : \"))\n",
        "even_sum=0\n",
        "odd_sum=0\n",
        "if n1>n2:\n",
        "   print(\"Enter the Valid Range Numbers\")\n",
        "for num in range(n1,n2):\n",
        "    if num%2==0:\n",
        "        even_sum +=num\n",
        "    else:\n",
        "        odd_sum +=num\n",
        "\n",
        "print(\"Sum of even numbers :\",even_sum)\n",
        "print(\"Sum of odd numbers :\",odd_sum)"
      ],
      "metadata": {
        "colab": {
          "base_uri": "https://localhost:8080/"
        },
        "id": "mDLyFk9_F5Jd",
        "outputId": "8c7debf9-68a0-4108-ba69-a5c61451b776"
      },
      "execution_count": null,
      "outputs": [
        {
          "output_type": "stream",
          "name": "stdout",
          "text": [
            "Enter the first num of range : 20\n",
            "Enter the last num of range : 30\n",
            "Sum of even numbers : 120\n",
            "Sum of odd numbers : 125\n"
          ]
        }
      ]
    },
    {
      "cell_type": "markdown",
      "source": [
        "6) Write a program make a simple calculator that can add, subtract, multiply\n",
        "and divide using user choice."
      ],
      "metadata": {
        "id": "WIZCAfckG_4z"
      }
    },
    {
      "cell_type": "code",
      "source": [
        "a= float(input(\"Enter An NUMBER 1 : \"))\n",
        "b= float(input(\"Enter Another NUMBER 2 : \"))\n",
        "\n",
        "print(\"1 - Addition\\n2 - Substraction\\n3 - Multiplication\\n4 - Division\\n5 - Floor Division\\n6 - Modulo\")\n",
        "\n",
        "option = int(input(\"Enter one option from the above list:- \"))\n",
        "\n",
        "if option == 1:\n",
        "   print(f\"Addition: {a + b}\")\n",
        "elif option == 2:\n",
        "   print(f\"Substraction: {a - b}\")\n",
        "elif option == 3:\n",
        "   print(f\"Multiplication: {a * b}\")\n",
        "elif option == 4:\n",
        "   print(f\"Division: {a / b}\")\n",
        "elif option == 5:\n",
        "   print(f\"Floor Division: {a // b}\")\n",
        "elif option == 6:\n",
        "   print(f\"Modulo: {a % b}\")"
      ],
      "metadata": {
        "colab": {
          "base_uri": "https://localhost:8080/"
        },
        "id": "Wzo6_haZHIDc",
        "outputId": "8fac3624-036b-466a-afea-854a22976af3"
      },
      "execution_count": null,
      "outputs": [
        {
          "output_type": "stream",
          "name": "stdout",
          "text": [
            "Enter An NUMBER 1 : 20\n",
            "Enter Another NUMBER 2 : 21\n",
            "1 - Addition\n",
            "2 - Substraction\n",
            "3 - Multiplication\n",
            "4 - Division\n",
            "5 - Floor Division\n",
            "6 - Modulo\n",
            "Enter one option from the above list:- 2\n",
            "Substraction: -1.0\n"
          ]
        }
      ]
    },
    {
      "cell_type": "markdown",
      "source": [
        "7) Write a program to calculate SPI using given marks"
      ],
      "metadata": {
        "id": "K6de6uQeJceF"
      }
    },
    {
      "cell_type": "code",
      "source": [
        "print('Enter the number of subjects:')\n",
        "num_subjects = int(input())\n",
        "\n",
        "print('GRADE TABLE: \\n AA = 10 \\n AB = 9\\n BB = 8 \\n BC = 7 \\n CC = 6 \\n CD = 4 \\n DD = 4 \\n FF = 0')\n",
        "\n",
        "grade_points = []\n",
        "credits = []\n",
        "\n",
        "for i in range(num_subjects):\n",
        "    print(f'Enter the GRADE POINT of subject {i + 1}:')\n",
        "    grade_points.append(int(input()))\n",
        "\n",
        "    print(f'Enter the credits for subject {i + 1}:')\n",
        "    credits.append(int(input()))\n",
        "\n",
        "spi = sum(grade_points[i] * credits[i] for i in range(num_subjects)) / sum(credits)\n",
        "\n",
        "if spi <= 10:\n",
        "    print('Congratulations! Your SPI is:', spi)\n",
        "else:\n",
        "    print('Please enter valid grade points. Refer to the GRADE TABLE.')\n"
      ],
      "metadata": {
        "colab": {
          "base_uri": "https://localhost:8080/"
        },
        "id": "MRu8o8QtJkFM",
        "outputId": "f248ceaa-f640-416e-c80d-914b9ef61446"
      },
      "execution_count": null,
      "outputs": [
        {
          "output_type": "stream",
          "name": "stdout",
          "text": [
            "Enter the number of subjects:\n",
            "5\n",
            "GRADE TABLE: \n",
            " AA = 10 \n",
            " AB = 9\n",
            " BB = 8 \n",
            " BC = 7 \n",
            " CC = 6 \n",
            " CD = 4 \n",
            " DD = 4 \n",
            " FF = 0\n",
            "Enter the GRADE POINT of subject 1:\n",
            "8\n",
            "Enter the credits for subject 1:\n",
            "5\n",
            "Enter the GRADE POINT of subject 2:\n",
            "10\n",
            "Enter the credits for subject 2:\n",
            "3\n",
            "Enter the GRADE POINT of subject 3:\n",
            "8\n",
            "Enter the credits for subject 3:\n",
            "4\n",
            "Enter the GRADE POINT of subject 4:\n",
            "10\n",
            "Enter the credits for subject 4:\n",
            "5\n",
            "Enter the GRADE POINT of subject 5:\n",
            "6\n",
            "Enter the credits for subject 5:\n",
            "2\n",
            "Congratulations! Your SPI is: 8.631578947368421\n"
          ]
        }
      ]
    }
  ]
}